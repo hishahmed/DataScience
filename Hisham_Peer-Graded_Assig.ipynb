{
 "cells": [
  {
   "cell_type": "markdown",
   "id": "8d5ad6d5-0cb1-4f1f-9b35-bf36ddce60b4",
   "metadata": {},
   "source": [
    "# My Jupyter Notebook on IBM Watson Studio "
   ]
  },
  {
   "cell_type": "markdown",
   "id": "86ed2320-2997-4470-8c24-e34a63a5968a",
   "metadata": {},
   "source": [
    "**Hisham Ahmed**<br>\n",
    "Data Scientist "
   ]
  },
  {
   "cell_type": "markdown",
   "id": "45564ebb-32b3-4ae6-91e5-a7c23a363137",
   "metadata": {},
   "source": [
    "*I am intersted in data science becauses data analytics and getting insights from data has always appealed to me.*<br>\n",
    "*My career as researcher in the filed of engineering and then FinTech specialist convinced me about the necessity of data science.*"
   ]
  },
  {
   "cell_type": "markdown",
   "id": "c16d710c-7f1b-4df3-98c3-e7b8542bc9f9",
   "metadata": {},
   "source": [
    "### My code calculate the sum of two numbers and shows the result "
   ]
  },
  {
   "cell_type": "code",
   "execution_count": 2,
   "id": "3b7fc387-14af-44b3-993b-6301aa84f713",
   "metadata": {},
   "outputs": [
    {
     "data": {
      "text/plain": [
       "5"
      ]
     },
     "execution_count": 2,
     "metadata": {},
     "output_type": "execute_result"
    }
   ],
   "source": [
    "2+3"
   ]
  },
  {
   "cell_type": "markdown",
   "id": "133de2cd-a1f5-4380-971d-917bbd08f8a2",
   "metadata": {},
   "source": [
    "### List\n",
    "1. This is the first item in the list\n",
    "2. This is the second item in the list\n",
    "3. This is the third item in the list\n",
    "4. This is the fourth item in the list\n",
    "\n",
    "\n",
    "### Hyperlink with page title \n",
    "http://www.coursera.com \"Coursera Homepage\"\n",
    "\n",
    "\n",
    "### Table\n",
    "|Header1 | Header 2| Header 3|\n",
    "|:------:|:-------:|:-------:|\n",
    "|1       |2        |3        |\n",
    "|4       |5        |6        |\n",
    "|7       |8        |9        |\n",
    "|10      |11       |12       |\n",
    "\n"
   ]
  },
  {
   "cell_type": "code",
   "execution_count": null,
   "id": "f3eaf8ef-1db4-450c-ae92-1775bdea7c13",
   "metadata": {},
   "outputs": [],
   "source": []
  }
 ],
 "metadata": {
  "kernelspec": {
   "display_name": "Python",
   "language": "python",
   "name": "conda-env-python-py"
  },
  "language_info": {
   "codemirror_mode": {
    "name": "ipython",
    "version": 3
   },
   "file_extension": ".py",
   "mimetype": "text/x-python",
   "name": "python",
   "nbconvert_exporter": "python",
   "pygments_lexer": "ipython3",
   "version": "3.7.12"
  }
 },
 "nbformat": 4,
 "nbformat_minor": 5
}
