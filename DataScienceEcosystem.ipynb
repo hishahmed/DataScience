{
 "cells": [
  {
   "cell_type": "markdown",
   "id": "8433ffcc-40dd-4be0-900e-017465b0ff73",
   "metadata": {
    "tags": []
   },
   "source": [
    "# Data Science Tools and Ecosystem"
   ]
  },
  {
   "cell_type": "markdown",
   "id": "8bcc0a21-1652-4008-a463-b514551c8fcb",
   "metadata": {},
   "source": [
    "In this assignment, a notebook is created to summarize Data Science Tools and Ecosystem "
   ]
  },
  {
   "cell_type": "markdown",
   "id": "8a491162-5747-45f6-9c6e-ddd530eb3077",
   "metadata": {},
   "source": [
    "__Objectives:__\n",
    "* Create tables in markdown cells.\n",
    "* List data science tools.\n",
    "* List popular languages for Data Science.\n",
    "* List commonly used libraries used by Data Scientists.\n",
    "* Learn some simple arithmetic expression to multiply then add integers."
   ]
  },
  {
   "cell_type": "markdown",
   "id": "8309e2e2-8f95-4a26-9447-191f2b6b95ec",
   "metadata": {},
   "source": [
    "Some of the popular languages that Data Scientists use are:\n",
    "1. Python\n",
    "2. SQL\n",
    "3. R \n",
    "4. Scala\n",
    "5. Julia\n",
    "6. Java"
   ]
  },
  {
   "cell_type": "markdown",
   "id": "51524452-b4c7-4be7-bb85-77acefc233cc",
   "metadata": {},
   "source": [
    "Some of the commonly used libraries used by Data Scientists include:\n",
    "1. Pandas\n",
    "2. Sci-Kit Learn\n",
    "3. NumPy\n",
    "4. TensorFlow\n",
    "5. SciPy\n"
   ]
  },
  {
   "cell_type": "markdown",
   "id": "866f286e-b98b-45fe-b477-2505d859724d",
   "metadata": {},
   "source": [
    "|Data Science Tools|\n",
    "|:-----------------|\n",
    "|Jupyter Notebook  |\n",
    "|RStudio           |\n",
    "|Apache Spark      |"
   ]
  },
  {
   "cell_type": "markdown",
   "id": "c8ef8bc4-2324-466a-b14d-b7cccb5568b7",
   "metadata": {},
   "source": [
    "### Below are a few examples of evaluating arithmetic expressions in Python"
   ]
  },
  {
   "cell_type": "code",
   "execution_count": 1,
   "id": "96ba5778-6173-41c2-b9e2-b2f41c483bd4",
   "metadata": {},
   "outputs": [
    {
     "data": {
      "text/plain": [
       "17"
      ]
     },
     "execution_count": 1,
     "metadata": {},
     "output_type": "execute_result"
    }
   ],
   "source": [
    "# This a simple arithmetic expression to mutiply then add integers\n",
    "(3*4)+5"
   ]
  },
  {
   "cell_type": "code",
   "execution_count": 2,
   "id": "af187ddd-d00d-4de9-bc80-535e03e2b47e",
   "metadata": {},
   "outputs": [
    {
     "data": {
      "text/plain": [
       "3.3333333333333335"
      ]
     },
     "execution_count": 2,
     "metadata": {},
     "output_type": "execute_result"
    }
   ],
   "source": [
    "# This will convert 200 minutes to hours by diving by 60\n",
    "200/60"
   ]
  },
  {
   "cell_type": "markdown",
   "id": "460c489f-9e61-43e0-81f7-0d5b8fb89721",
   "metadata": {},
   "source": [
    "## Author \n",
    "Hisham Ahmed"
   ]
  }
 ],
 "metadata": {
  "kernelspec": {
   "display_name": "Python",
   "language": "python",
   "name": "conda-env-python-py"
  },
  "language_info": {
   "codemirror_mode": {
    "name": "ipython",
    "version": 3
   },
   "file_extension": ".py",
   "mimetype": "text/x-python",
   "name": "python",
   "nbconvert_exporter": "python",
   "pygments_lexer": "ipython3",
   "version": "3.7.12"
  },
  "toc-showtags": false
 },
 "nbformat": 4,
 "nbformat_minor": 5
}
